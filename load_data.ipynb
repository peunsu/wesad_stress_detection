{
 "cells": [
  {
   "cell_type": "code",
   "execution_count": 27,
   "id": "282abc57",
   "metadata": {},
   "outputs": [],
   "source": [
    "import scipy\n",
    "import logging\n",
    "import pickle\n",
    "import numpy as np\n",
    "import pandas as pd\n",
    "from pathlib import Path\n",
    "from tqdm import tqdm\n",
    "\n",
    "logging.basicConfig(level=logging.INFO)\n",
    "logger = logging.getLogger(__name__)"
   ]
  },
  {
   "cell_type": "code",
   "execution_count": 28,
   "id": "6889394f",
   "metadata": {},
   "outputs": [],
   "source": [
    "SUBJECT_IDS = [f'S{i}' for i in range(2, 12)] + [f'S{i}' for i in range(13, 18)]  # S2 to S11 and S13 to S17\n",
    "TEST_SUBJECTS = 5\n",
    "SAMPLING_RATE = 4 # 4Hz\n",
    "SAMPLING_RATES = {\n",
    "    'chest': {\n",
    "        'ACC': 700,\n",
    "        'ECG': 700,\n",
    "        'EMG': 700,\n",
    "        'EDA': 700,\n",
    "        'Resp': 700,\n",
    "        'Temp': 700\n",
    "    },\n",
    "    'wrist': {\n",
    "        'ACC': 32,\n",
    "        'BVP': 64,\n",
    "        'EDA': 4,\n",
    "        'TEMP': 4\n",
    "    },\n",
    "    'label': 700\n",
    "}"
   ]
  },
  {
   "cell_type": "code",
   "execution_count": 29,
   "id": "de689ade",
   "metadata": {},
   "outputs": [],
   "source": [
    "def resample_data(data: np.ndarray, original_rate: int, target_rate: int):\n",
    "    data = data.squeeze()\n",
    "    if original_rate > target_rate: # Sampling frequency is higher than target frequency\n",
    "        # Padding is applied to cut out oscillations caused by low-pass filtering\n",
    "        pad_amount = 1000\n",
    "        data = np.pad(data, (pad_amount, pad_amount), 'constant',\n",
    "                                constant_values=(data[0], data[-1]))\n",
    "        # Apply low pass filter\n",
    "        b, a = scipy.signal.butter(1, target_rate // 2, fs=original_rate,btype='low', analog=False)\n",
    "        filtered_data = scipy.signal.lfilter(b, a, data)\n",
    "        # Trim padding form signal\n",
    "        filtered_data = filtered_data[pad_amount:-pad_amount]\n",
    "        # Resample signal\n",
    "        data = filtered_data[::int(original_rate // target_rate)]\n",
    "    elif original_rate < target_rate: # Sampling frequency is lower than target frequency\n",
    "        # Create time array of original signal to interpolate\n",
    "        time = np.round(np.arange(0, len(data)) / original_rate, 3)\n",
    "        # Parametrise interpolation function\n",
    "        f = scipy.interpolate.interp1d(time, data, kind='linear', fill_value='extrapolate')\n",
    "        # Create time array of new signal to interpolate\n",
    "        time_new = np.arange(0, time[-1], 1 / target_rate)\n",
    "        # Interpolate\n",
    "        data = f(time_new)\n",
    "    else: # Original frequency is same as target frequency\n",
    "        data = data\n",
    "    return data"
   ]
  },
  {
   "cell_type": "code",
   "execution_count": 30,
   "id": "d432a552",
   "metadata": {},
   "outputs": [],
   "source": [
    "def load_data(path: str, subject_id: str, sampling_rate: int = 4):\n",
    "    data_path = Path(path) / subject_id / f'{subject_id}.pkl'\n",
    "    with open(data_path, 'rb') as file:\n",
    "        data = pickle.load(file, encoding='latin1')\n",
    "    \n",
    "    data_chest = data['signal']['chest']\n",
    "    data_wrist = data['signal']['wrist']\n",
    "    data_label = data['label']\n",
    "    \n",
    "    for key in data_chest.keys():\n",
    "        if key == 'ACC':\n",
    "            # ACC has 3 channels, so we need to resample each channel separately\n",
    "            temp = []\n",
    "            for i in range(data_chest[key].shape[1]):\n",
    "                temp.append(resample_data(data_chest[key][:, i], SAMPLING_RATES['chest'][key], SAMPLING_RATE))\n",
    "            data_chest[key] = np.stack(temp, axis=1)\n",
    "        else:\n",
    "            data_chest[key] = resample_data(data_chest[key], SAMPLING_RATES['chest'][key], SAMPLING_RATE)\n",
    "    for key in data_wrist.keys():\n",
    "        if key == 'ACC':\n",
    "            # ACC has 3 channels, so we need to resample each channel separately\n",
    "            temp = []\n",
    "            for i in range(data_wrist[key].shape[1]):\n",
    "                temp.append(resample_data(data_wrist[key][:, i], SAMPLING_RATES['wrist'][key], SAMPLING_RATE))\n",
    "            data_wrist[key] = np.stack(temp, axis=1)\n",
    "        else:\n",
    "            data_wrist[key] = resample_data(data_wrist[key], SAMPLING_RATES['wrist'][key], SAMPLING_RATE)\n",
    "    \n",
    "    if SAMPLING_RATES['label'] > sampling_rate:\n",
    "        data_label = data_label[::SAMPLING_RATES['label'] // sampling_rate]\n",
    "    elif SAMPLING_RATES['label'] < sampling_rate:\n",
    "        time = np.round(np.arange(0, len(data_label)) / SAMPLING_RATES['label'], 3)\n",
    "        f = scipy.interpolate.interp1d(time, data_label, kind='nearest', fill_value='extrapolate')\n",
    "        time_new = np.arange(0, time[-1], 1 / sampling_rate)\n",
    "        data_label = f(time_new)\n",
    "    \n",
    "    acc_chest = pd.DataFrame(data_chest['ACC'], columns=['ACC_x_chest', 'ACC_y_chest', 'ACC_z_chest'])\n",
    "    ecg_chest = pd.DataFrame(data_chest['ECG'], columns=['ECG_chest'])\n",
    "    emg_chest = pd.DataFrame(data_chest['EMG'], columns=['EMG_chest'])\n",
    "    eda_chest = pd.DataFrame(data_chest['EDA'], columns=['EDA_chest'])\n",
    "    resp_chest = pd.DataFrame(data_chest['Resp'], columns=['Resp_chest'])\n",
    "    temp_chest = pd.DataFrame(data_chest['Temp'], columns=['Temp_chest'])\n",
    "\n",
    "    acc_wrist = pd.DataFrame(data_wrist['ACC'], columns=['ACC_x_wrist', 'ACC_y_wrist', 'ACC_z_wrist'])\n",
    "    bvp_wrist = pd.DataFrame(data_wrist['BVP'], columns=['BVP_wrist'])\n",
    "    eda_wrist = pd.DataFrame(data_wrist['EDA'], columns=['EDA_wrist'])\n",
    "    temp_wrist = pd.DataFrame(data_wrist['TEMP'], columns=['TEMP_wrist'])\n",
    "\n",
    "    label = pd.DataFrame(data_label, columns=['label'])\n",
    "    \n",
    "    # Merge all dataframes on their time indices\n",
    "    df = pd.concat([acc_chest, ecg_chest, emg_chest, eda_chest, resp_chest, temp_chest,\n",
    "                    acc_wrist, bvp_wrist, eda_wrist, temp_wrist, label], axis=1, join='outer')\n",
    "    \n",
    "    # Filter labels to include only 1 (baseline), 2 (stress), and 3 (amusement)\n",
    "    df = df[df['label'].isin([1, 2, 3])]\n",
    "    \n",
    "    # Reset index to have a clean integer index\n",
    "    df.reset_index(drop=True, inplace=True)\n",
    "    \n",
    "    df = df.assign(\n",
    "        subject_id=subject_id,\n",
    "        label = df['label'].map({1: 0, 2: 1, 3: 0}) # Binary classification: 0 (non-stress), 1 (stress)\n",
    "    )\n",
    "\n",
    "    return df"
   ]
  },
  {
   "cell_type": "code",
   "execution_count": 31,
   "id": "a05a68cb",
   "metadata": {},
   "outputs": [],
   "source": [
    "def load_all_data(path: str, subject_ids: list, sampling_rate: int = 64):\n",
    "    all_data = {}\n",
    "    for subject_id in tqdm(subject_ids):\n",
    "        df_subject = load_data(path, subject_id, sampling_rate)\n",
    "        all_data[subject_id] = df_subject\n",
    "    \n",
    "    logger.info('All data loaded')\n",
    "    \n",
    "    return all_data"
   ]
  },
  {
   "cell_type": "code",
   "execution_count": 32,
   "id": "66c8ffde",
   "metadata": {},
   "outputs": [],
   "source": [
    "def standardize_data(data, mean=None, std=None):\n",
    "    if mean is None:\n",
    "        mean = data.mean()\n",
    "    if std is None:\n",
    "        std = data.std()\n",
    "    data_normalized = (data - mean) / std\n",
    "    return data_normalized"
   ]
  },
  {
   "cell_type": "code",
   "execution_count": 33,
   "id": "955898fe",
   "metadata": {},
   "outputs": [],
   "source": [
    "def data_split(all_data, test_subjects: int):\n",
    "    all_data_list = list(all_data.values())\n",
    "    n_subjects = len(all_data)\n",
    "    n_test = test_subjects\n",
    "    \n",
    "    n_train = n_subjects - n_test\n",
    "\n",
    "    df_train = pd.concat(all_data_list[:n_train], ignore_index=True, axis=0)\n",
    "    df_test = pd.concat(all_data_list[n_train:], ignore_index=True, axis=0)\n",
    "\n",
    "    df_train_with_anomaly = df_train.reset_index(drop=True)\n",
    "    df_train = df_train[df_train['label'] == 0].reset_index(drop=True) # Use only non-stress data for training \n",
    "    df_test = df_test.reset_index(drop=True) # Use all data for testing\n",
    "    \n",
    "    logger.info('Data split into train and test sets')\n",
    "    logger.info('Train data shape: %s', df_train.shape)\n",
    "    logger.info('Test data shape: %s', df_test.shape)\n",
    "\n",
    "    return df_train, df_train_with_anomaly, df_test"
   ]
  },
  {
   "cell_type": "code",
   "execution_count": 34,
   "id": "33cb75a6",
   "metadata": {},
   "outputs": [
    {
     "name": "stderr",
     "output_type": "stream",
     "text": [
      "  0%|          | 0/15 [00:00<?, ?it/s]"
     ]
    },
    {
     "name": "stderr",
     "output_type": "stream",
     "text": [
      "100%|██████████| 15/15 [00:32<00:00,  2.17s/it]\n",
      "INFO:__main__:All data loaded\n",
      "INFO:__main__:Data split into train and test sets\n",
      "INFO:__main__:Train data shape: (61696, 16)\n",
      "INFO:__main__:Test data shape: (44732, 16)\n"
     ]
    }
   ],
   "source": [
    "all_data = load_all_data('WESAD', SUBJECT_IDS, SAMPLING_RATE)\n",
    "df_train, df_train_with_anomaly, df_test = data_split(all_data, TEST_SUBJECTS)"
   ]
  },
  {
   "cell_type": "code",
   "execution_count": 40,
   "id": "b109f06a",
   "metadata": {},
   "outputs": [],
   "source": [
    "Path('data').mkdir(parents=True, exist_ok=True)\n",
    "df_train.to_csv('data/train.csv', index=False)\n",
    "df_train_with_anomaly.to_csv('data/train_with_anomaly.csv', index=False)\n",
    "df_test.to_csv('data/test.csv', index=False)"
   ]
  },
  {
   "cell_type": "code",
   "execution_count": 41,
   "id": "a3d43c01",
   "metadata": {},
   "outputs": [
    {
     "data": {
      "text/html": [
       "<div>\n",
       "<style scoped>\n",
       "    .dataframe tbody tr th:only-of-type {\n",
       "        vertical-align: middle;\n",
       "    }\n",
       "\n",
       "    .dataframe tbody tr th {\n",
       "        vertical-align: top;\n",
       "    }\n",
       "\n",
       "    .dataframe thead th {\n",
       "        text-align: right;\n",
       "    }\n",
       "</style>\n",
       "<table border=\"1\" class=\"dataframe\">\n",
       "  <thead>\n",
       "    <tr style=\"text-align: right;\">\n",
       "      <th></th>\n",
       "      <th>ACC_x_chest</th>\n",
       "      <th>ACC_y_chest</th>\n",
       "      <th>ACC_z_chest</th>\n",
       "      <th>ECG_chest</th>\n",
       "      <th>EMG_chest</th>\n",
       "      <th>EDA_chest</th>\n",
       "      <th>Resp_chest</th>\n",
       "      <th>Temp_chest</th>\n",
       "      <th>ACC_x_wrist</th>\n",
       "      <th>ACC_y_wrist</th>\n",
       "      <th>ACC_z_wrist</th>\n",
       "      <th>BVP_wrist</th>\n",
       "      <th>EDA_wrist</th>\n",
       "      <th>TEMP_wrist</th>\n",
       "      <th>label</th>\n",
       "      <th>subject_id</th>\n",
       "    </tr>\n",
       "  </thead>\n",
       "  <tbody>\n",
       "    <tr>\n",
       "      <th>0</th>\n",
       "      <td>0.884488</td>\n",
       "      <td>-0.108730</td>\n",
       "      <td>-0.242231</td>\n",
       "      <td>0.058284</td>\n",
       "      <td>-0.003539</td>\n",
       "      <td>5.699680</td>\n",
       "      <td>0.276868</td>\n",
       "      <td>29.128135</td>\n",
       "      <td>34.943832</td>\n",
       "      <td>21.163192</td>\n",
       "      <td>35.383769</td>\n",
       "      <td>-67.118687</td>\n",
       "      <td>1.640539</td>\n",
       "      <td>35.81</td>\n",
       "      <td>0</td>\n",
       "      <td>S2</td>\n",
       "    </tr>\n",
       "    <tr>\n",
       "      <th>1</th>\n",
       "      <td>0.881354</td>\n",
       "      <td>-0.110234</td>\n",
       "      <td>-0.269737</td>\n",
       "      <td>0.082774</td>\n",
       "      <td>-0.001684</td>\n",
       "      <td>5.662452</td>\n",
       "      <td>-1.569285</td>\n",
       "      <td>29.126827</td>\n",
       "      <td>52.382129</td>\n",
       "      <td>-23.997765</td>\n",
       "      <td>43.102392</td>\n",
       "      <td>36.422618</td>\n",
       "      <td>1.634132</td>\n",
       "      <td>35.81</td>\n",
       "      <td>0</td>\n",
       "      <td>S2</td>\n",
       "    </tr>\n",
       "    <tr>\n",
       "      <th>2</th>\n",
       "      <td>0.880647</td>\n",
       "      <td>-0.115910</td>\n",
       "      <td>-0.261053</td>\n",
       "      <td>-0.113248</td>\n",
       "      <td>-0.002079</td>\n",
       "      <td>5.627947</td>\n",
       "      <td>-2.616351</td>\n",
       "      <td>29.130680</td>\n",
       "      <td>54.246670</td>\n",
       "      <td>-23.057112</td>\n",
       "      <td>29.790993</td>\n",
       "      <td>49.543609</td>\n",
       "      <td>1.614912</td>\n",
       "      <td>35.81</td>\n",
       "      <td>0</td>\n",
       "      <td>S2</td>\n",
       "    </tr>\n",
       "    <tr>\n",
       "      <th>3</th>\n",
       "      <td>0.881459</td>\n",
       "      <td>-0.112778</td>\n",
       "      <td>-0.263934</td>\n",
       "      <td>0.013752</td>\n",
       "      <td>-0.004435</td>\n",
       "      <td>5.585941</td>\n",
       "      <td>-2.196373</td>\n",
       "      <td>29.134117</td>\n",
       "      <td>52.306091</td>\n",
       "      <td>-21.094121</td>\n",
       "      <td>28.189838</td>\n",
       "      <td>67.064383</td>\n",
       "      <td>1.591848</td>\n",
       "      <td>35.81</td>\n",
       "      <td>0</td>\n",
       "      <td>S2</td>\n",
       "    </tr>\n",
       "    <tr>\n",
       "      <th>4</th>\n",
       "      <td>0.888935</td>\n",
       "      <td>-0.132658</td>\n",
       "      <td>-0.239563</td>\n",
       "      <td>0.057006</td>\n",
       "      <td>-0.002548</td>\n",
       "      <td>5.548919</td>\n",
       "      <td>-0.262218</td>\n",
       "      <td>29.134844</td>\n",
       "      <td>54.790854</td>\n",
       "      <td>-17.086637</td>\n",
       "      <td>29.087397</td>\n",
       "      <td>-42.069433</td>\n",
       "      <td>1.558534</td>\n",
       "      <td>35.81</td>\n",
       "      <td>0</td>\n",
       "      <td>S2</td>\n",
       "    </tr>\n",
       "  </tbody>\n",
       "</table>\n",
       "</div>"
      ],
      "text/plain": [
       "   ACC_x_chest  ACC_y_chest  ACC_z_chest  ECG_chest  EMG_chest  EDA_chest  \\\n",
       "0     0.884488    -0.108730    -0.242231   0.058284  -0.003539   5.699680   \n",
       "1     0.881354    -0.110234    -0.269737   0.082774  -0.001684   5.662452   \n",
       "2     0.880647    -0.115910    -0.261053  -0.113248  -0.002079   5.627947   \n",
       "3     0.881459    -0.112778    -0.263934   0.013752  -0.004435   5.585941   \n",
       "4     0.888935    -0.132658    -0.239563   0.057006  -0.002548   5.548919   \n",
       "\n",
       "   Resp_chest  Temp_chest  ACC_x_wrist  ACC_y_wrist  ACC_z_wrist  BVP_wrist  \\\n",
       "0    0.276868   29.128135    34.943832    21.163192    35.383769 -67.118687   \n",
       "1   -1.569285   29.126827    52.382129   -23.997765    43.102392  36.422618   \n",
       "2   -2.616351   29.130680    54.246670   -23.057112    29.790993  49.543609   \n",
       "3   -2.196373   29.134117    52.306091   -21.094121    28.189838  67.064383   \n",
       "4   -0.262218   29.134844    54.790854   -17.086637    29.087397 -42.069433   \n",
       "\n",
       "   EDA_wrist  TEMP_wrist  label subject_id  \n",
       "0   1.640539       35.81      0         S2  \n",
       "1   1.634132       35.81      0         S2  \n",
       "2   1.614912       35.81      0         S2  \n",
       "3   1.591848       35.81      0         S2  \n",
       "4   1.558534       35.81      0         S2  "
      ]
     },
     "execution_count": 41,
     "metadata": {},
     "output_type": "execute_result"
    }
   ],
   "source": [
    "df_train.head()"
   ]
  },
  {
   "cell_type": "code",
   "execution_count": 42,
   "id": "e6a11487",
   "metadata": {},
   "outputs": [
    {
     "data": {
      "text/plain": [
       "label\n",
       "0    61696\n",
       "Name: count, dtype: int64"
      ]
     },
     "execution_count": 42,
     "metadata": {},
     "output_type": "execute_result"
    }
   ],
   "source": [
    "df_train.label.value_counts()"
   ]
  },
  {
   "cell_type": "code",
   "execution_count": 43,
   "id": "6dc2ea98",
   "metadata": {},
   "outputs": [
    {
     "data": {
      "text/plain": [
       "label\n",
       "0    61696\n",
       "1    26180\n",
       "Name: count, dtype: int64"
      ]
     },
     "execution_count": 43,
     "metadata": {},
     "output_type": "execute_result"
    }
   ],
   "source": [
    "df_train_with_anomaly.label.value_counts()"
   ]
  },
  {
   "cell_type": "code",
   "execution_count": 44,
   "id": "8bcf74e8",
   "metadata": {},
   "outputs": [
    {
     "data": {
      "text/plain": [
       "label\n",
       "0    31048\n",
       "1    13684\n",
       "Name: count, dtype: int64"
      ]
     },
     "execution_count": 44,
     "metadata": {},
     "output_type": "execute_result"
    }
   ],
   "source": [
    "df_test.label.value_counts()"
   ]
  },
  {
   "cell_type": "code",
   "execution_count": null,
   "id": "45664057",
   "metadata": {},
   "outputs": [],
   "source": []
  },
  {
   "cell_type": "code",
   "execution_count": null,
   "id": "986a7142",
   "metadata": {},
   "outputs": [],
   "source": []
  }
 ],
 "metadata": {
  "kernelspec": {
   "display_name": "venv",
   "language": "python",
   "name": "python3"
  },
  "language_info": {
   "codemirror_mode": {
    "name": "ipython",
    "version": 3
   },
   "file_extension": ".py",
   "mimetype": "text/x-python",
   "name": "python",
   "nbconvert_exporter": "python",
   "pygments_lexer": "ipython3",
   "version": "3.10.12"
  }
 },
 "nbformat": 4,
 "nbformat_minor": 5
}
