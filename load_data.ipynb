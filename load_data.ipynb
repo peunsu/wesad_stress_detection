{
 "cells": [
  {
   "cell_type": "code",
   "execution_count": 1,
   "id": "282abc57",
   "metadata": {},
   "outputs": [],
   "source": [
    "import logging\n",
    "import pickle\n",
    "import numpy as np\n",
    "import pandas as pd\n",
    "from pathlib import Path\n",
    "from tqdm import tqdm\n",
    "\n",
    "logging.basicConfig(level=logging.INFO)\n",
    "logger = logging.getLogger(__name__)"
   ]
  },
  {
   "cell_type": "code",
   "execution_count": 2,
   "id": "6889394f",
   "metadata": {},
   "outputs": [],
   "source": [
    "SUBJECT_IDS = [f'S{i}' for i in range(2, 12)] + [f'S{i}' for i in range(13, 18)]  # S2 to S11 and S13 to S17\n",
    "VAL_RATIO = 0.15\n",
    "TEST_RATIO = 0.15\n",
    "SAMPLING_RATE = 4 # 4Hz\n",
    "SAMPLING_RATES = {\n",
    "    'chest': {\n",
    "        'ACC': 700,\n",
    "        'ECG': 700,\n",
    "        'EMG': 700,\n",
    "        'EDA': 700,\n",
    "        'Resp': 700,\n",
    "        'Temp': 700\n",
    "    },\n",
    "    'wrist': {\n",
    "        'ACC': 32,\n",
    "        'BVP': 64,\n",
    "        'EDA': 4,\n",
    "        'TEMP': 4\n",
    "    },\n",
    "    'label': 700\n",
    "}"
   ]
  },
  {
   "cell_type": "code",
   "execution_count": 3,
   "id": "d432a552",
   "metadata": {},
   "outputs": [],
   "source": [
    "def load_data(path: str, subject_id: str, sampling_rate: int = 4):\n",
    "    data_path = Path(path) / subject_id / f'{subject_id}.pkl'\n",
    "    with open(data_path, 'rb') as file:\n",
    "        data = pickle.load(file, encoding='latin1')\n",
    "    \n",
    "    data_chest = data['signal']['chest']\n",
    "    data_wrist = data['signal']['wrist']\n",
    "    data_label = data['label']\n",
    "    \n",
    "    for key in data_chest.keys():\n",
    "        data_chest[key] = data_chest[key][::SAMPLING_RATES['chest'][key] // sampling_rate]\n",
    "    for key in data_wrist.keys():\n",
    "        data_wrist[key] = data_wrist[key][::SAMPLING_RATES['wrist'][key] // sampling_rate]\n",
    "    data_label = data_label[::SAMPLING_RATES['label'] // sampling_rate]\n",
    "    \n",
    "    acc_chest = pd.DataFrame(data_chest['ACC'], columns=['ACC_x_chest', 'ACC_y_chest', 'ACC_z_chest'])\n",
    "    ecg_chest = pd.DataFrame(data_chest['ECG'], columns=['ECG_chest'])\n",
    "    emg_chest = pd.DataFrame(data_chest['EMG'], columns=['EMG_chest'])\n",
    "    eda_chest = pd.DataFrame(data_chest['EDA'], columns=['EDA_chest'])\n",
    "    resp_chest = pd.DataFrame(data_chest['Resp'], columns=['Resp_chest'])\n",
    "    temp_chest = pd.DataFrame(data_chest['Temp'], columns=['Temp_chest'])\n",
    "\n",
    "    acc_wrist = pd.DataFrame(data_wrist['ACC'], columns=['ACC_x_wrist', 'ACC_y_wrist', 'ACC_z_wrist'])\n",
    "    bvp_wrist = pd.DataFrame(data_wrist['BVP'], columns=['BVP_wrist'])\n",
    "    eda_wrist = pd.DataFrame(data_wrist['EDA'], columns=['EDA_wrist'])\n",
    "    temp_wrist = pd.DataFrame(data_wrist['TEMP'], columns=['TEMP_wrist'])\n",
    "\n",
    "    label = pd.DataFrame(data_label, columns=['label'])\n",
    "    \n",
    "    # Merge all dataframes on their time indices\n",
    "    df = pd.concat([acc_chest, ecg_chest, emg_chest, eda_chest, resp_chest, temp_chest,\n",
    "                    acc_wrist, bvp_wrist, eda_wrist, temp_wrist, label], axis=1, join='outer')\n",
    "    \n",
    "    # Filter labels to include only 1 (baseline), 2 (stress), and 3 (amusement)\n",
    "    df = df[df['label'].isin([1, 2, 3])]\n",
    "    \n",
    "    # Reset index to have a clean integer index\n",
    "    df.reset_index(drop=True, inplace=True)\n",
    "    \n",
    "    df = df.assign(\n",
    "        subject_id=subject_id,\n",
    "        label = df['label'].map({1: 0, 2: 1, 3: 0}) # Binary classification: 0 (non-stress), 1 (stress)\n",
    "    )\n",
    "\n",
    "    return df"
   ]
  },
  {
   "cell_type": "code",
   "execution_count": 4,
   "id": "a05a68cb",
   "metadata": {},
   "outputs": [],
   "source": [
    "def load_all_data(path: str, subject_ids: list, sampling_rate: int = 64):\n",
    "    all_data = {}\n",
    "    for subject_id in tqdm(subject_ids):\n",
    "        df_subject = load_data(path, subject_id, sampling_rate)\n",
    "        all_data[subject_id] = df_subject\n",
    "    \n",
    "    logger.info('All data loaded')\n",
    "    \n",
    "    return all_data"
   ]
  },
  {
   "cell_type": "code",
   "execution_count": 5,
   "id": "66c8ffde",
   "metadata": {},
   "outputs": [],
   "source": [
    "def standardize_data(data, mean=None, std=None):\n",
    "    if mean is None:\n",
    "        mean = data.mean()\n",
    "    if std is None:\n",
    "        std = data.std()\n",
    "    data_normalized = (data - mean) / std\n",
    "    return data_normalized"
   ]
  },
  {
   "cell_type": "code",
   "execution_count": 6,
   "id": "955898fe",
   "metadata": {},
   "outputs": [],
   "source": [
    "def data_split(all_data, val_ratio: float, test_ratio: float):\n",
    "    all_data_list = list(all_data.values())\n",
    "    n_subjects = len(all_data)\n",
    "    n_test = int(n_subjects * test_ratio)\n",
    "    n_val = int(n_subjects * val_ratio)\n",
    "    n_train = n_subjects - n_val - n_test\n",
    "\n",
    "    df_train = pd.concat(all_data_list[:n_train], ignore_index=True, axis=0)\n",
    "    df_val = pd.concat(all_data_list[n_train:n_train+n_val], ignore_index=True, axis=0)\n",
    "    df_test = pd.concat(all_data_list[n_train+n_val:], ignore_index=True, axis=0)\n",
    "\n",
    "    df_train = df_train[df_train['label'] == 0].reset_index(drop=True) # Use only non-stress data for training \n",
    "    df_val = df_val[df_val['label'] == 0].reset_index(drop=True) # Use only non-stress data for validation\n",
    "    df_test = df_test.reset_index(drop=True) # Use all data for testing\n",
    "    \n",
    "    logger.info('Data split into train and test sets')\n",
    "    logger.info('Train data shape: %s', df_train.shape)\n",
    "    logger.info('Validation data shape: %s', df_val.shape)\n",
    "    logger.info('Test data shape: %s', df_test.shape)\n",
    "    \n",
    "    return df_train, df_val, df_test"
   ]
  },
  {
   "cell_type": "code",
   "execution_count": 7,
   "id": "33cb75a6",
   "metadata": {},
   "outputs": [
    {
     "name": "stderr",
     "output_type": "stream",
     "text": [
      "100%|██████████| 15/15 [00:31<00:00,  2.10s/it]\n",
      "INFO:__main__:All data loaded\n",
      "INFO:__main__:Data split into train and test sets\n",
      "INFO:__main__:Train data shape: (67944, 16)\n",
      "INFO:__main__:Validation data shape: (12396, 16)\n",
      "INFO:__main__:Test data shape: (17988, 16)\n"
     ]
    }
   ],
   "source": [
    "all_data = load_all_data('WESAD', SUBJECT_IDS, SAMPLING_RATE)\n",
    "df_train, df_val, df_test = data_split(all_data, VAL_RATIO, TEST_RATIO)"
   ]
  },
  {
   "cell_type": "code",
   "execution_count": 8,
   "id": "b109f06a",
   "metadata": {},
   "outputs": [],
   "source": [
    "Path('data').mkdir(parents=True, exist_ok=True)\n",
    "df_train.to_csv('data/train.csv', index=False)\n",
    "df_val.to_csv('data/val.csv', index=False)\n",
    "df_test.to_csv('data/test.csv', index=False)"
   ]
  },
  {
   "cell_type": "code",
   "execution_count": 9,
   "id": "1cf48527",
   "metadata": {},
   "outputs": [
    {
     "data": {
      "text/html": [
       "<div>\n",
       "<style scoped>\n",
       "    .dataframe tbody tr th:only-of-type {\n",
       "        vertical-align: middle;\n",
       "    }\n",
       "\n",
       "    .dataframe tbody tr th {\n",
       "        vertical-align: top;\n",
       "    }\n",
       "\n",
       "    .dataframe thead th {\n",
       "        text-align: right;\n",
       "    }\n",
       "</style>\n",
       "<table border=\"1\" class=\"dataframe\">\n",
       "  <thead>\n",
       "    <tr style=\"text-align: right;\">\n",
       "      <th></th>\n",
       "      <th>ACC_x_chest</th>\n",
       "      <th>ACC_y_chest</th>\n",
       "      <th>ACC_z_chest</th>\n",
       "      <th>ECG_chest</th>\n",
       "      <th>EMG_chest</th>\n",
       "      <th>EDA_chest</th>\n",
       "      <th>Resp_chest</th>\n",
       "      <th>Temp_chest</th>\n",
       "      <th>ACC_x_wrist</th>\n",
       "      <th>ACC_y_wrist</th>\n",
       "      <th>ACC_z_wrist</th>\n",
       "      <th>BVP_wrist</th>\n",
       "      <th>EDA_wrist</th>\n",
       "      <th>TEMP_wrist</th>\n",
       "      <th>label</th>\n",
       "      <th>subject_id</th>\n",
       "    </tr>\n",
       "  </thead>\n",
       "  <tbody>\n",
       "    <tr>\n",
       "      <th>0</th>\n",
       "      <td>0.8826</td>\n",
       "      <td>-0.1138</td>\n",
       "      <td>-0.2310</td>\n",
       "      <td>0.036484</td>\n",
       "      <td>-0.025589</td>\n",
       "      <td>5.679321</td>\n",
       "      <td>-0.529480</td>\n",
       "      <td>29.119537</td>\n",
       "      <td>65.0</td>\n",
       "      <td>12.0</td>\n",
       "      <td>21.0</td>\n",
       "      <td>-33.58</td>\n",
       "      <td>1.640539</td>\n",
       "      <td>35.81</td>\n",
       "      <td>0</td>\n",
       "      <td>S2</td>\n",
       "    </tr>\n",
       "    <tr>\n",
       "      <th>1</th>\n",
       "      <td>0.8878</td>\n",
       "      <td>-0.1122</td>\n",
       "      <td>-0.2758</td>\n",
       "      <td>0.009201</td>\n",
       "      <td>0.001144</td>\n",
       "      <td>5.642319</td>\n",
       "      <td>-2.055359</td>\n",
       "      <td>29.123871</td>\n",
       "      <td>55.0</td>\n",
       "      <td>-32.0</td>\n",
       "      <td>44.0</td>\n",
       "      <td>30.52</td>\n",
       "      <td>1.634132</td>\n",
       "      <td>35.81</td>\n",
       "      <td>0</td>\n",
       "      <td>S2</td>\n",
       "    </tr>\n",
       "    <tr>\n",
       "      <th>2</th>\n",
       "      <td>0.8918</td>\n",
       "      <td>-0.1166</td>\n",
       "      <td>-0.2710</td>\n",
       "      <td>-0.162506</td>\n",
       "      <td>0.011765</td>\n",
       "      <td>5.607224</td>\n",
       "      <td>-2.735901</td>\n",
       "      <td>29.119537</td>\n",
       "      <td>49.0</td>\n",
       "      <td>-21.0</td>\n",
       "      <td>30.0</td>\n",
       "      <td>52.54</td>\n",
       "      <td>1.614912</td>\n",
       "      <td>35.81</td>\n",
       "      <td>0</td>\n",
       "      <td>S2</td>\n",
       "    </tr>\n",
       "    <tr>\n",
       "      <th>3</th>\n",
       "      <td>0.8790</td>\n",
       "      <td>-0.0914</td>\n",
       "      <td>-0.2654</td>\n",
       "      <td>0.014969</td>\n",
       "      <td>0.001053</td>\n",
       "      <td>5.566788</td>\n",
       "      <td>-1.780701</td>\n",
       "      <td>29.126709</td>\n",
       "      <td>52.0</td>\n",
       "      <td>-22.0</td>\n",
       "      <td>27.0</td>\n",
       "      <td>94.31</td>\n",
       "      <td>1.591848</td>\n",
       "      <td>35.81</td>\n",
       "      <td>0</td>\n",
       "      <td>S2</td>\n",
       "    </tr>\n",
       "    <tr>\n",
       "      <th>4</th>\n",
       "      <td>0.8930</td>\n",
       "      <td>-0.1208</td>\n",
       "      <td>-0.2402</td>\n",
       "      <td>0.061707</td>\n",
       "      <td>0.013321</td>\n",
       "      <td>5.531693</td>\n",
       "      <td>0.511169</td>\n",
       "      <td>29.131042</td>\n",
       "      <td>58.0</td>\n",
       "      <td>-14.0</td>\n",
       "      <td>28.0</td>\n",
       "      <td>-38.86</td>\n",
       "      <td>1.558534</td>\n",
       "      <td>35.81</td>\n",
       "      <td>0</td>\n",
       "      <td>S2</td>\n",
       "    </tr>\n",
       "  </tbody>\n",
       "</table>\n",
       "</div>"
      ],
      "text/plain": [
       "   ACC_x_chest  ACC_y_chest  ACC_z_chest  ECG_chest  EMG_chest  EDA_chest  \\\n",
       "0       0.8826      -0.1138      -0.2310   0.036484  -0.025589   5.679321   \n",
       "1       0.8878      -0.1122      -0.2758   0.009201   0.001144   5.642319   \n",
       "2       0.8918      -0.1166      -0.2710  -0.162506   0.011765   5.607224   \n",
       "3       0.8790      -0.0914      -0.2654   0.014969   0.001053   5.566788   \n",
       "4       0.8930      -0.1208      -0.2402   0.061707   0.013321   5.531693   \n",
       "\n",
       "   Resp_chest  Temp_chest  ACC_x_wrist  ACC_y_wrist  ACC_z_wrist  BVP_wrist  \\\n",
       "0   -0.529480   29.119537         65.0         12.0         21.0     -33.58   \n",
       "1   -2.055359   29.123871         55.0        -32.0         44.0      30.52   \n",
       "2   -2.735901   29.119537         49.0        -21.0         30.0      52.54   \n",
       "3   -1.780701   29.126709         52.0        -22.0         27.0      94.31   \n",
       "4    0.511169   29.131042         58.0        -14.0         28.0     -38.86   \n",
       "\n",
       "   EDA_wrist  TEMP_wrist  label subject_id  \n",
       "0   1.640539       35.81      0         S2  \n",
       "1   1.634132       35.81      0         S2  \n",
       "2   1.614912       35.81      0         S2  \n",
       "3   1.591848       35.81      0         S2  \n",
       "4   1.558534       35.81      0         S2  "
      ]
     },
     "execution_count": 9,
     "metadata": {},
     "output_type": "execute_result"
    }
   ],
   "source": [
    "df_train.head()"
   ]
  },
  {
   "cell_type": "code",
   "execution_count": 10,
   "id": "e6a11487",
   "metadata": {},
   "outputs": [
    {
     "data": {
      "text/plain": [
       "label\n",
       "0    67944\n",
       "Name: count, dtype: int64"
      ]
     },
     "execution_count": 10,
     "metadata": {},
     "output_type": "execute_result"
    }
   ],
   "source": [
    "df_train.label.value_counts()"
   ]
  },
  {
   "cell_type": "code",
   "execution_count": 11,
   "id": "286f65d5",
   "metadata": {},
   "outputs": [
    {
     "data": {
      "text/plain": [
       "label\n",
       "0    12396\n",
       "Name: count, dtype: int64"
      ]
     },
     "execution_count": 11,
     "metadata": {},
     "output_type": "execute_result"
    }
   ],
   "source": [
    "df_val.label.value_counts()"
   ]
  },
  {
   "cell_type": "code",
   "execution_count": 12,
   "id": "8bcf74e8",
   "metadata": {},
   "outputs": [
    {
     "data": {
      "text/plain": [
       "label\n",
       "0    12404\n",
       "1     5584\n",
       "Name: count, dtype: int64"
      ]
     },
     "execution_count": 12,
     "metadata": {},
     "output_type": "execute_result"
    }
   ],
   "source": [
    "df_test.label.value_counts()"
   ]
  }
 ],
 "metadata": {
  "kernelspec": {
   "display_name": "venv",
   "language": "python",
   "name": "python3"
  },
  "language_info": {
   "codemirror_mode": {
    "name": "ipython",
    "version": 3
   },
   "file_extension": ".py",
   "mimetype": "text/x-python",
   "name": "python",
   "nbconvert_exporter": "python",
   "pygments_lexer": "ipython3",
   "version": "3.10.12"
  }
 },
 "nbformat": 4,
 "nbformat_minor": 5
}
